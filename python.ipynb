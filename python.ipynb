{
  "nbformat": 4,
  "nbformat_minor": 0,
  "metadata": {
    "colab": {
      "provenance": [],
      "authorship_tag": "ABX9TyObTYMC2QzvLgqdkXmmVMUX",
      "include_colab_link": true
    },
    "kernelspec": {
      "name": "python3",
      "display_name": "Python 3"
    },
    "language_info": {
      "name": "python"
    }
  },
  "cells": [
    {
      "cell_type": "markdown",
      "metadata": {
        "id": "view-in-github",
        "colab_type": "text"
      },
      "source": [
        "<a href=\"https://colab.research.google.com/github/oliveiranicolas19-arch/Python/blob/main/python.ipynb\" target=\"_parent\"><img src=\"https://colab.research.google.com/assets/colab-badge.svg\" alt=\"Open In Colab\"/></a>"
      ]
    },
    {
      "cell_type": "code",
      "execution_count": null,
      "metadata": {
        "colab": {
          "base_uri": "https://localhost:8080/"
        },
        "id": "hCErj1uIU9cz",
        "outputId": "a1f0b9fc-760b-48d8-d96e-d0f646a755b7"
      },
      "outputs": [
        {
          "output_type": "stream",
          "name": "stdout",
          "text": [
            "I Competição De Programa Start\n"
          ]
        }
      ],
      "source": [
        "print(\"I Competição De Programa Start\")"
      ]
    },
    {
      "cell_type": "code",
      "source": [
        "ano= \"II\"\n",
        "\n",
        "ano = 2025\n",
        "\n",
        "jovem = \"Cristiano Ronaldo vai ganhar a copa do mundo 2026, com o pepe sendo o treinador\"\n",
        "\n",
        "print(ano, jovem, \" e participa da Competição de Programação da Start\")"
      ],
      "metadata": {
        "colab": {
          "base_uri": "https://localhost:8080/"
        },
        "id": "vsJHTUmuWbim",
        "outputId": "e362ad3f-f081-46c3-f694-0c3c3f37dfdc"
      },
      "execution_count": null,
      "outputs": [
        {
          "output_type": "stream",
          "name": "stdout",
          "text": [
            "2025 Cristiano Ronaldo vai ganhar a copa do mundo 2026, com o pepe sendo o treinador  e participa da Competição de Programação da Start\n"
          ]
        }
      ]
    },
    {
      "cell_type": "code",
      "source": [
        "ano = 2025\n",
        "\n",
        "jovem = \"Neymar vai dar a volta por cima no futebol e conseguir chegar na final contra portugal\"\n",
        "\n",
        "\n",
        "print(ano, jovem,  \" e Competição de Programação de Start\")"
      ],
      "metadata": {
        "colab": {
          "base_uri": "https://localhost:8080/"
        },
        "id": "WL-u-kx8XiN7",
        "outputId": "fbcddf77-798a-47cf-8cb1-12bc19541432"
      },
      "execution_count": null,
      "outputs": [
        {
          "output_type": "stream",
          "name": "stdout",
          "text": [
            "2025 Neymar vai dar a volta por cima no futebol e conseguir chegar na final contra portugal  e Competição de Programação de Start\n"
          ]
        }
      ]
    },
    {
      "cell_type": "code",
      "source": [
        "ano = 2035\n",
        "\n",
        "jovem = \"Jesus Cristo é o caminho a verdade e a vida, ninguem vem ao pai senão por ele. Vai ter um milagre\"\n",
        "\n",
        "print(ano, jovem,  \" e ganhador da champions league\" )\n"
      ],
      "metadata": {
        "id": "CVVwu19FcL_T",
        "outputId": "aa4e5ebf-d7f9-41c8-8e1a-7162b42f3915",
        "colab": {
          "base_uri": "https://localhost:8080/"
        }
      },
      "execution_count": null,
      "outputs": [
        {
          "output_type": "stream",
          "name": "stdout",
          "text": [
            "2035 Jesus Cristo é o caminho a verdade e a vida, ninguem vem ao pai senão por ele. Vai ter um milagre  e ganhador da champions league\n"
          ]
        }
      ]
    },
    {
      "cell_type": "code",
      "source": [
        "ano = 2025\n",
        "\n",
        "jovem = \"Nota >= 7 aprovado;Nota <7 e >4 recuperação;Nota < 4 reprovado\"\n",
        "\n",
        "print(ano,  jovem,   \"Mel\")"
      ],
      "metadata": {
        "id": "mFKr3WN1c1mx"
      },
      "execution_count": null,
      "outputs": []
    },
    {
      "cell_type": "markdown",
      "source": [
        "\"Cristiano Ronaldo vai ganhar a copa do mundo de 2026\" , com o Pepe sendo o treinador.\n"
      ],
      "metadata": {
        "id": "7advzX8PYEGn"
      }
    },
    {
      "cell_type": "markdown",
      "source": [
        "AULA 02\n",
        "\n",
        "Contexto:\n",
        "Uma escola está promovendo uma campanha de incentivo à leitura, em que cada estudante recebe pontos ao concluir livros. Esses pontos podem ser trocados por diferentes premios da escola. As categorias de livros têm valores de pontos diferentes:\n",
        "\n",
        "Livro de ficção: 10 pontos\n",
        "\n",
        "Livro de não-ficção: 8 pontos\n",
        "\n",
        "Livro infantil: 6 pontos\n",
        "\n",
        "Rodrigo leu um livro de cada categoria. Agora ele quer saber quantos pontos acumulou com sua leitura.\n",
        "\n",
        "Nosso objetivo é criar um programa em Python que:\n",
        "Armazene a pontuação de cada categoria de livro em uma variável.\n",
        "Calcule o total de pontos acumulados por Rodrigo.\n",
        "Mostre na tela o total de pontos acumulados por Rodrigo."
      ],
      "metadata": {
        "id": "dpa8RvGPWGDd"
      }
    },
    {
      "cell_type": "markdown",
      "source": [
        "Futuro goleiro do Coritiba,Corinthias e Real Madriad ganhador da champions league 2035 sendo o melhor amigo do Cristiano Ronaldo"
      ],
      "metadata": {
        "id": "PIu9Kc1b7KES"
      }
    },
    {
      "cell_type": "code",
      "source": [
        "#Livro de ficção: 10 pontos\n",
        "livro_ficcao = 10\n",
        "\n",
        "#Livro de não-ficção: 8 pontos\n",
        "livro_nficcao = 8\n",
        "\n",
        "#Livro infantil: 6 pontos\n",
        "livro_ninfantil = 6\n",
        "\n",
        "#quantidade de livrosn lidos\n",
        "ficcao = 1*livro_ficcao\n",
        "nficcao = 1*livro_nficcao\n",
        "ninfantil = 1*livro_ninfantil\n",
        "\n",
        "#Total de pontos acumulados por Rodrigo\n",
        "total = ficcao + nficcao + ninfantil\n",
        "\n",
        "\n",
        "print(f\"O numero total de pontos de Rodrigo é igual: {total}\")\n"
      ],
      "metadata": {
        "colab": {
          "base_uri": "https://localhost:8080/"
        },
        "id": "ys2_6frD67dk",
        "outputId": "2a012dcc-7191-4125-f161-e8a3fbe3d01e"
      },
      "execution_count": 1,
      "outputs": [
        {
          "output_type": "stream",
          "name": "stdout",
          "text": [
            "o numero total de pontos de Rodrigo é igual: 24\n"
          ]
        }
      ]
    },
    {
      "cell_type": "markdown",
      "source": [
        "ESTE - PYTHON\n",
        "\n",
        "Elaborar um sistema de aprovação de estudantes;\n",
        "\n",
        "Nota >= 7 aprovado;\n",
        "\n",
        "Nota <7 e >4 recuperação;\n",
        "\n",
        "Nota < 4 reprovado;\n",
        "\n",
        "Pode colocar mensagens também."
      ],
      "metadata": {
        "id": "UzcaGBRC_o8V"
      }
    },
    {
      "cell_type": "code",
      "source": [
        "Pens_Comp = 7\n",
        "Biol = 4\n",
        "Mat = 4\n"
      ],
      "metadata": {
        "id": "wnc-fB6j_qNv"
      },
      "execution_count": 3,
      "outputs": []
    },
    {
      "cell_type": "markdown",
      "source": [
        "Nosso amigo NeymarJr acabou ficando em recuperação em Biol e reprovado em Mat"
      ],
      "metadata": {
        "id": "ZeWi_0cYAef2"
      }
    }
  ]
}